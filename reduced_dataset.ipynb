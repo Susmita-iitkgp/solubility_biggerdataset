{
 "cells": [
  {
   "cell_type": "code",
   "execution_count": 1,
   "id": "9401322c-877a-4f0d-9704-e8f82da41fab",
   "metadata": {},
   "outputs": [
    {
     "name": "stdout",
     "output_type": "stream",
     "text": [
      "Successfully connected jupyter notebook to the server\n"
     ]
    }
   ],
   "source": [
    "print(\"Successfully connected jupyter notebook to the server\")"
   ]
  },
  {
   "cell_type": "code",
   "execution_count": 2,
   "id": "7515c2fc-f358-4185-bb64-14d9234858bb",
   "metadata": {},
   "outputs": [
    {
     "name": "stdout",
     "output_type": "stream",
     "text": [
      "Collecting numpy==1.24.4\n",
      "  Using cached numpy-1.24.4-cp311-cp311-manylinux_2_17_x86_64.manylinux2014_x86_64.whl.metadata (5.6 kB)\n",
      "Using cached numpy-1.24.4-cp311-cp311-manylinux_2_17_x86_64.manylinux2014_x86_64.whl (17.3 MB)\n",
      "Installing collected packages: numpy\n",
      "Successfully installed numpy-1.24.4\n",
      "Note: you may need to restart the kernel to use updated packages.\n"
     ]
    }
   ],
   "source": [
    "pip install numpy==1.24.4"
   ]
  },
  {
   "cell_type": "code",
   "execution_count": 3,
   "id": "35ee2610-7619-402a-8b7e-ead0d95a1653",
   "metadata": {},
   "outputs": [
    {
     "name": "stdout",
     "output_type": "stream",
     "text": [
      "Collecting emoji\n",
      "  Using cached emoji-2.14.1-py3-none-any.whl.metadata (5.7 kB)\n",
      "Using cached emoji-2.14.1-py3-none-any.whl (590 kB)\n",
      "Installing collected packages: emoji\n",
      "Successfully installed emoji-2.14.1\n"
     ]
    }
   ],
   "source": [
    "!pip install emoji"
   ]
  },
  {
   "cell_type": "code",
   "execution_count": 4,
   "id": "88216e60-ed9b-4aaf-be4c-24e4bb5406c8",
   "metadata": {},
   "outputs": [
    {
     "name": "stdout",
     "output_type": "stream",
     "text": [
      "Collecting pandas\n",
      "  Using cached pandas-2.2.3-cp311-cp311-manylinux_2_17_x86_64.manylinux2014_x86_64.whl.metadata (89 kB)\n",
      "Requirement already satisfied: numpy>=1.23.2 in ./anaconda3/envs/jupyter-env/lib/python3.11/site-packages (from pandas) (1.24.4)\n",
      "Requirement already satisfied: python-dateutil>=2.8.2 in ./anaconda3/envs/jupyter-env/lib/python3.11/site-packages (from pandas) (2.9.0.post0)\n",
      "Collecting pytz>=2020.1 (from pandas)\n",
      "  Using cached pytz-2025.2-py2.py3-none-any.whl.metadata (22 kB)\n",
      "Collecting tzdata>=2022.7 (from pandas)\n",
      "  Using cached tzdata-2025.2-py2.py3-none-any.whl.metadata (1.4 kB)\n",
      "Requirement already satisfied: six>=1.5 in ./anaconda3/envs/jupyter-env/lib/python3.11/site-packages (from python-dateutil>=2.8.2->pandas) (1.17.0)\n",
      "Using cached pandas-2.2.3-cp311-cp311-manylinux_2_17_x86_64.manylinux2014_x86_64.whl (13.1 MB)\n",
      "Using cached pytz-2025.2-py2.py3-none-any.whl (509 kB)\n",
      "Using cached tzdata-2025.2-py2.py3-none-any.whl (347 kB)\n",
      "Installing collected packages: pytz, tzdata, pandas\n",
      "Successfully installed pandas-2.2.3 pytz-2025.2 tzdata-2025.2\n"
     ]
    }
   ],
   "source": [
    "!pip install pandas"
   ]
  },
  {
   "cell_type": "code",
   "execution_count": 5,
   "id": "02797f3a-dd6b-47fd-b0db-2d67ab61324c",
   "metadata": {},
   "outputs": [
    {
     "name": "stdout",
     "output_type": "stream",
     "text": [
      "Collecting seaborn\n",
      "  Using cached seaborn-0.13.2-py3-none-any.whl.metadata (5.4 kB)\n",
      "Collecting matplotlib\n",
      "  Using cached matplotlib-3.10.1-cp311-cp311-manylinux_2_17_x86_64.manylinux2014_x86_64.whl.metadata (11 kB)\n",
      "Requirement already satisfied: numpy!=1.24.0,>=1.20 in ./anaconda3/envs/jupyter-env/lib/python3.11/site-packages (from seaborn) (1.24.4)\n",
      "Requirement already satisfied: pandas>=1.2 in ./anaconda3/envs/jupyter-env/lib/python3.11/site-packages (from seaborn) (2.2.3)\n",
      "Collecting contourpy>=1.0.1 (from matplotlib)\n",
      "  Using cached contourpy-1.3.2-cp311-cp311-manylinux_2_17_x86_64.manylinux2014_x86_64.whl.metadata (5.5 kB)\n",
      "Collecting cycler>=0.10 (from matplotlib)\n",
      "  Using cached cycler-0.12.1-py3-none-any.whl.metadata (3.8 kB)\n",
      "Collecting fonttools>=4.22.0 (from matplotlib)\n",
      "  Using cached fonttools-4.57.0-cp311-cp311-manylinux_2_17_x86_64.manylinux2014_x86_64.whl.metadata (102 kB)\n",
      "Collecting kiwisolver>=1.3.1 (from matplotlib)\n",
      "  Using cached kiwisolver-1.4.8-cp311-cp311-manylinux_2_17_x86_64.manylinux2014_x86_64.whl.metadata (6.2 kB)\n",
      "Requirement already satisfied: packaging>=20.0 in ./anaconda3/envs/jupyter-env/lib/python3.11/site-packages (from matplotlib) (24.2)\n",
      "Collecting pillow>=8 (from matplotlib)\n",
      "  Using cached pillow-11.2.1-cp311-cp311-manylinux_2_17_x86_64.manylinux2014_x86_64.whl.metadata (8.9 kB)\n",
      "Collecting pyparsing>=2.3.1 (from matplotlib)\n",
      "  Using cached pyparsing-3.2.3-py3-none-any.whl.metadata (5.0 kB)\n",
      "Requirement already satisfied: python-dateutil>=2.7 in ./anaconda3/envs/jupyter-env/lib/python3.11/site-packages (from matplotlib) (2.9.0.post0)\n",
      "Requirement already satisfied: pytz>=2020.1 in ./anaconda3/envs/jupyter-env/lib/python3.11/site-packages (from pandas>=1.2->seaborn) (2025.2)\n",
      "Requirement already satisfied: tzdata>=2022.7 in ./anaconda3/envs/jupyter-env/lib/python3.11/site-packages (from pandas>=1.2->seaborn) (2025.2)\n",
      "Requirement already satisfied: six>=1.5 in ./anaconda3/envs/jupyter-env/lib/python3.11/site-packages (from python-dateutil>=2.7->matplotlib) (1.17.0)\n",
      "Using cached seaborn-0.13.2-py3-none-any.whl (294 kB)\n",
      "Using cached matplotlib-3.10.1-cp311-cp311-manylinux_2_17_x86_64.manylinux2014_x86_64.whl (8.6 MB)\n",
      "Using cached contourpy-1.3.2-cp311-cp311-manylinux_2_17_x86_64.manylinux2014_x86_64.whl (326 kB)\n",
      "Using cached cycler-0.12.1-py3-none-any.whl (8.3 kB)\n",
      "Using cached fonttools-4.57.0-cp311-cp311-manylinux_2_17_x86_64.manylinux2014_x86_64.whl (4.9 MB)\n",
      "Using cached kiwisolver-1.4.8-cp311-cp311-manylinux_2_17_x86_64.manylinux2014_x86_64.whl (1.4 MB)\n",
      "Using cached pillow-11.2.1-cp311-cp311-manylinux_2_17_x86_64.manylinux2014_x86_64.whl (4.5 MB)\n",
      "Using cached pyparsing-3.2.3-py3-none-any.whl (111 kB)\n",
      "Installing collected packages: pyparsing, pillow, kiwisolver, fonttools, cycler, contourpy, matplotlib, seaborn\n",
      "Successfully installed contourpy-1.3.2 cycler-0.12.1 fonttools-4.57.0 kiwisolver-1.4.8 matplotlib-3.10.1 pillow-11.2.1 pyparsing-3.2.3 seaborn-0.13.2\n"
     ]
    }
   ],
   "source": [
    "!pip install seaborn matplotlib"
   ]
  },
  {
   "cell_type": "code",
   "execution_count": 6,
   "id": "c1d17250-86df-4ec9-a86e-2fce6786952f",
   "metadata": {},
   "outputs": [],
   "source": [
    "import pandas as pd\n",
    "import numpy as np\n",
    "import os\n",
    "import seaborn as sns\n",
    "import matplotlib.pyplot as plt\n",
    "import emoji\n",
    "%matplotlib inline"
   ]
  },
  {
   "cell_type": "code",
   "execution_count": 7,
   "id": "c3e45e4b-967a-418e-b59d-d80d781ef75a",
   "metadata": {},
   "outputs": [
    {
     "name": "stdout",
     "output_type": "stream",
     "text": [
      "Collecting rdkit\n",
      "  Using cached rdkit-2024.3.2-cp311-cp311-manylinux_2_17_x86_64.manylinux2014_x86_64.whl.metadata (3.9 kB)\n",
      "Requirement already satisfied: numpy in ./anaconda3/envs/jupyter-env/lib/python3.11/site-packages (from rdkit) (1.24.4)\n",
      "Requirement already satisfied: Pillow in ./anaconda3/envs/jupyter-env/lib/python3.11/site-packages (from rdkit) (11.2.1)\n",
      "Using cached rdkit-2024.3.2-cp311-cp311-manylinux_2_17_x86_64.manylinux2014_x86_64.whl (35.3 MB)\n",
      "Installing collected packages: rdkit\n",
      "Successfully installed rdkit-2024.3.2\n"
     ]
    }
   ],
   "source": [
    "#importing rdkit\n",
    "!pip install rdkit\n",
    "from rdkit import Chem\n",
    "from rdkit.Chem import AllChem\n",
    "from rdkit.Chem import Descriptors\n",
    "from rdkit import RDConfig\n",
    "from rdkit.Chem.Draw import IPythonConsole\n",
    "from rdkit.Chem import Draw\n",
    "from rdkit.Chem import PandasTools\n",
    "from rdkit import DataStructs\n",
    "from rdkit.Chem.Subshape import SubshapeBuilder, SubshapeAligner, SubshapeObjects"
   ]
  },
  {
   "cell_type": "code",
   "execution_count": 8,
   "id": "f45ce10d-62d5-40a0-bb68-4938649205d5",
   "metadata": {},
   "outputs": [
    {
     "name": "stdout",
     "output_type": "stream",
     "text": [
      "Collecting scikit-learn\n",
      "  Using cached scikit_learn-1.6.1-cp311-cp311-manylinux_2_17_x86_64.manylinux2014_x86_64.whl.metadata (18 kB)\n",
      "Requirement already satisfied: numpy>=1.19.5 in ./anaconda3/envs/jupyter-env/lib/python3.11/site-packages (from scikit-learn) (1.24.4)\n",
      "Collecting scipy>=1.6.0 (from scikit-learn)\n",
      "  Using cached scipy-1.15.2-cp311-cp311-manylinux_2_17_x86_64.manylinux2014_x86_64.whl.metadata (61 kB)\n",
      "Collecting joblib>=1.2.0 (from scikit-learn)\n",
      "  Using cached joblib-1.4.2-py3-none-any.whl.metadata (5.4 kB)\n",
      "Collecting threadpoolctl>=3.1.0 (from scikit-learn)\n",
      "  Using cached threadpoolctl-3.6.0-py3-none-any.whl.metadata (13 kB)\n",
      "Using cached scikit_learn-1.6.1-cp311-cp311-manylinux_2_17_x86_64.manylinux2014_x86_64.whl (13.5 MB)\n",
      "Using cached joblib-1.4.2-py3-none-any.whl (301 kB)\n",
      "Using cached scipy-1.15.2-cp311-cp311-manylinux_2_17_x86_64.manylinux2014_x86_64.whl (37.6 MB)\n",
      "Using cached threadpoolctl-3.6.0-py3-none-any.whl (18 kB)\n",
      "Installing collected packages: threadpoolctl, scipy, joblib, scikit-learn\n",
      "Successfully installed joblib-1.4.2 scikit-learn-1.6.1 scipy-1.15.2 threadpoolctl-3.6.0\n"
     ]
    }
   ],
   "source": [
    "!pip install scikit-learn"
   ]
  },
  {
   "cell_type": "code",
   "execution_count": 9,
   "id": "4616dd75-2871-442a-96c1-00bbea6454af",
   "metadata": {},
   "outputs": [],
   "source": [
    "#importing sklearn\n",
    "from sklearn.model_selection import train_test_split, StratifiedKFold, GridSearchCV\n",
    "from sklearn.metrics import r2_score, mean_squared_error, mean_absolute_error\n",
    "from sklearn.ensemble import RandomForestRegressor\n",
    "from sklearn.neural_network import MLPRegressor\n",
    "from sklearn.svm import SVR\n"
   ]
  },
  {
   "cell_type": "code",
   "execution_count": 10,
   "id": "113ce6cb-28e1-4797-8e4f-7f2cfbcb5110",
   "metadata": {},
   "outputs": [
    {
     "name": "stdout",
     "output_type": "stream",
     "text": [
      "Collecting mordred\n",
      "  Using cached mordred-1.2.0-py3-none-any.whl\n",
      "Requirement already satisfied: six==1.* in ./anaconda3/envs/jupyter-env/lib/python3.11/site-packages (from mordred) (1.17.0)\n",
      "Requirement already satisfied: numpy==1.* in ./anaconda3/envs/jupyter-env/lib/python3.11/site-packages (from mordred) (1.24.4)\n",
      "Collecting networkx==2.* (from mordred)\n",
      "  Using cached networkx-2.8.8-py3-none-any.whl.metadata (5.1 kB)\n",
      "Using cached networkx-2.8.8-py3-none-any.whl (2.0 MB)\n",
      "Installing collected packages: networkx, mordred\n",
      "Successfully installed mordred-1.2.0 networkx-2.8.8\n",
      "Collecting padelpy\n",
      "  Using cached padelpy-0.1.16-py3-none-any.whl.metadata (7.7 kB)\n",
      "Using cached padelpy-0.1.16-py3-none-any.whl (20.9 MB)\n",
      "Installing collected packages: padelpy\n",
      "Successfully installed padelpy-0.1.16\n"
     ]
    }
   ],
   "source": [
    "# Import mordred and padelpy\n",
    "!pip install mordred\n",
    "!pip install padelpy\n",
    "import padelpy\n",
    "\n",
    "#from mordred import Calculator, descriptors\n",
    "from mordred import Calculator, descriptors\n"
   ]
  },
  {
   "cell_type": "code",
   "execution_count": 11,
   "id": "a20fa267-5371-4512-bcd9-278491b07ff8",
   "metadata": {},
   "outputs": [],
   "source": [
    "# Load dataset\n",
    "sol = pd.read_csv('reduced.csv')\n"
   ]
  },
  {
   "cell_type": "code",
   "execution_count": 12,
   "id": "2b67d851-c84b-4f0c-82c2-21dcb3a7b0ca",
   "metadata": {},
   "outputs": [],
   "source": [
    "# Normalize temperature and store in new column\n",
    "sol['Temp_norm'] = (sol['Temperature_K'] - sol['Temperature_K'].mean()) / sol['Temperature_K'].std()"
   ]
  },
  {
   "cell_type": "code",
   "execution_count": 13,
   "id": "95498333-e620-4815-963f-cd9973eb5758",
   "metadata": {},
   "outputs": [],
   "source": [
    "# Generate RDKit Mol objects from SMILES\n",
    "sol[\"Mol\"] = sol[\"SMILES_Solute\"].apply(Chem.MolFromSmiles)\n"
   ]
  },
  {
   "cell_type": "code",
   "execution_count": 14,
   "id": "4435eca7-ab12-45b5-bd50-cbf1dd44cb96",
   "metadata": {},
   "outputs": [],
   "source": [
    "def All_Mordred_descriptors(data):\n",
    "    calc = Calculator(descriptors, ignore_3D=True)\n",
    "    mols = [Chem.MolFromSmiles(smi) for smi in data]\n",
    "    n_jobs = max(1, os.cpu_count() - 2)\n",
    "    df = calc.pandas(mols, nproc=n_jobs)\n",
    "    return df\n"
   ]
  },
  {
   "cell_type": "code",
   "execution_count": 15,
   "id": "95e301e2-73ea-4c9f-88f3-5736e065071d",
   "metadata": {},
   "outputs": [
    {
     "name": "stdout",
     "output_type": "stream",
     "text": [
      "/home/susmita/anaconda3/envs/jupyter-env/lib/python3.11/site-packages/numpy/core/fromnumeric.py:86: RuntimeWarning: overflow encountered in reduce\n",
      "  return ufunc.reduce(obj, axis, dtype, out, **passkwargs)\n",
      "/home/susmita/anaconda3/envs/jupyter-env/lib/python3.11/site-packages/numpy/core/fromnumeric.py:86: RuntimeWarning: overflow encountered in reduce\n",
      "  return ufunc.reduce(obj, axis, dtype, out, **passkwargs)\n",
      "/home/susmita/anaconda3/envs/jupyter-env/lib/python3.11/site-packages/numpy/core/fromnumeric.py:86: RuntimeWarning: overflow encountered in reduce\n",
      "  return ufunc.reduce(obj, axis, dtype, out, **passkwargs)\n",
      "/home/susmita/anaconda3/envs/jupyter-env/lib/python3.11/site-packages/numpy/core/fromnumeric.py:86: RuntimeWarning: overflow encountered in reduce\n",
      "  return ufunc.reduce(obj, axis, dtype, out, **passkwargs)\n",
      "/home/susmita/anaconda3/envs/jupyter-env/lib/python3.11/site-packages/numpy/core/fromnumeric.py:86: RuntimeWarning: overflow encountered in reduce\n",
      "  return ufunc.reduce(obj, axis, dtype, out, **passkwargs)\n",
      "/home/susmita/anaconda3/envs/jupyter-env/lib/python3.11/site-packages/numpy/core/fromnumeric.py:86: RuntimeWarning: overflow encountered in reduce\n",
      "  return ufunc.reduce(obj, axis, dtype, out, **passkwargs)\n",
      "/home/susmita/anaconda3/envs/jupyter-env/lib/python3.11/site-packages/numpy/core/fromnumeric.py:86: RuntimeWarning: overflow encountered in reduce\n",
      "  return ufunc.reduce(obj, axis, dtype, out, **passkwargs)\n",
      "/home/susmita/anaconda3/envs/jupyter-env/lib/python3.11/site-packages/numpy/core/fromnumeric.py:86: RuntimeWarning: overflow encountered in reduce\n",
      "  return ufunc.reduce(obj, axis, dtype, out, **passkwargs)\n",
      "/home/susmita/anaconda3/envs/jupyter-env/lib/python3.11/site-packages/numpy/core/fromnumeric.py:86: RuntimeWarning: overflow encountered in reduce\n",
      "  return ufunc.reduce(obj, axis, dtype, out, **passkwargs)\n",
      "/home/susmita/anaconda3/envs/jupyter-env/lib/python3.11/site-packages/numpy/core/fromnumeric.py:86: RuntimeWarning: overflow encountered in reduce\n",
      "  return ufunc.reduce(obj, axis, dtype, out, **passkwargs)\n",
      "/home/susmita/anaconda3/envs/jupyter-env/lib/python3.11/site-packages/numpy/core/fromnumeric.py:86: RuntimeWarning: overflow encountered in reduce\n",
      "  return ufunc.reduce(obj, axis, dtype, out, **passkwargs)\n",
      "/home/susmita/anaconda3/envs/jupyter-env/lib/python3.11/site-packages/numpy/core/fromnumeric.py:86: RuntimeWarning: overflow encountered in reduce\n",
      "  return ufunc.reduce(obj, axis, dtype, out, **passkwargs)\n",
      "/home/susmita/anaconda3/envs/jupyter-env/lib/python3.11/site-packages/numpy/core/fromnumeric.py:86: RuntimeWarning: overflow encountered in reduce\n",
      "  return ufunc.reduce(obj, axis, dtype, out, **passkwargs)\n",
      "/home/susmita/anaconda3/envs/jupyter-env/lib/python3.11/site-packages/numpy/core/fromnumeric.py:86: RuntimeWarning: overflow encountered in reduce\n",
      "  return ufunc.reduce(obj, axis, dtype, out, **passkwargs)\n",
      "/home/susmita/anaconda3/envs/jupyter-env/lib/python3.11/site-packages/numpy/core/fromnumeric.py:86: RuntimeWarning: overflow encountered in reduce\n",
      "  return ufunc.reduce(obj, axis, dtype, out, **passkwargs)\n",
      "/home/susmita/anaconda3/envs/jupyter-env/lib/python3.11/site-packages/numpy/core/fromnumeric.py:86: RuntimeWarning: overflow encountered in reduce\n",
      "  return ufunc.reduce(obj, axis, dtype, out, **passkwargs)\n",
      "/home/susmita/anaconda3/envs/jupyter-env/lib/python3.11/site-packages/numpy/core/fromnumeric.py:86: RuntimeWarning: overflow encountered in reduce\n",
      "  return ufunc.reduce(obj, axis, dtype, out, **passkwargs)\n",
      "/home/susmita/anaconda3/envs/jupyter-env/lib/python3.11/site-packages/numpy/core/fromnumeric.py:86: RuntimeWarning: overflow encountered in reduce\n",
      "  return ufunc.reduce(obj, axis, dtype, out, **passkwargs)\n",
      "/home/susmita/anaconda3/envs/jupyter-env/lib/python3.11/site-packages/numpy/core/fromnumeric.py:86: RuntimeWarning: overflow encountered in reduce\n",
      "  return ufunc.reduce(obj, axis, dtype, out, **passkwargs)\n",
      "/home/susmita/anaconda3/envs/jupyter-env/lib/python3.11/site-packages/numpy/core/fromnumeric.py:86: RuntimeWarning: overflow encountered in reduce\n",
      "  return ufunc.reduce(obj, axis, dtype, out, **passkwargs)\n",
      "/home/susmita/anaconda3/envs/jupyter-env/lib/python3.11/site-packages/numpy/core/fromnumeric.py:86: RuntimeWarning: overflow encountered in reduce\n",
      "  return ufunc.reduce(obj, axis, dtype, out, **passkwargs)\n",
      "/home/susmita/anaconda3/envs/jupyter-env/lib/python3.11/site-packages/numpy/core/fromnumeric.py:86: RuntimeWarning: overflow encountered in reduce\n",
      "  return ufunc.reduce(obj, axis, dtype, out, **passkwargs)\n",
      "CPU times: user 3min 28s, sys: 45.8 s, total: 4min 14s\n",
      "Wall time: 25min 30s\n"
     ]
    }
   ],
   "source": [
    "%%time\n",
    "mordred_descriptors = All_Mordred_descriptors(sol['SMILES_Solute'])"
   ]
  },
  {
   "cell_type": "code",
   "execution_count": 17,
   "id": "cb437872-77fa-4c9d-8030-7e2ba253eb32",
   "metadata": {},
   "outputs": [],
   "source": [
    "from rdkit.Chem import MACCSkeys "
   ]
  },
  {
   "cell_type": "code",
   "execution_count": 19,
   "id": "70f73f46-af32-4616-b5ec-242c7ebe0004",
   "metadata": {},
   "outputs": [
    {
     "name": "stdout",
     "output_type": "stream",
     "text": [
      "CPU times: user 7.96 s, sys: 8.28 ms, total: 7.97 s\n",
      "Wall time: 7.98 s\n"
     ]
    }
   ],
   "source": [
    "%%time\n",
    "# Generate MACCS fingerprint for solvents\n",
    "\n",
    "molfps = []                          # Initialize an empty list to store solvent molecular fingerprints\n",
    "for i in range(sol.shape[0]):         # Loop through each row (solvent molecule) in the sol dataframe\n",
    "    mol = (Chem.MolFromSmiles(sol['SMILES_Solvent'].iloc[i]))   # Take the solvent molecule object\n",
    "    \n",
    "    bitstring = list(MACCSkeys.GenMACCSKeys(mol).ToBitString())    # Generate MACCS fingerprint as a string of 0s and 1s\n",
    "    fp_vect = list(map(int, bitstring))    # Convert string to list of integers (0s and 1s)\n",
    "    molfps.append(fp_vect)                #Append the fingerprint vector to the list\n",
    "\n",
    "\n",
    "sol['Solvent_Fingerprint'] = molfps    # Add the list of fingerprint vectors as a new column called 'Solvent_Fingerprint' in the dataframe\n"
   ]
  },
  {
   "cell_type": "code",
   "execution_count": 21,
   "id": "ecabdf3a-9296-4087-923a-6525ed178abf",
   "metadata": {},
   "outputs": [
    {
     "name": "stdout",
     "output_type": "stream",
     "text": [
      "Index(['SMILES_Solute', 'Temperature_K', 'Solvent', 'SMILES_Solvent',\n",
      "       'Solubility(mole_fraction)', 'Solubility(mol/L)', 'LogS(mol/L)',\n",
      "       'Compound_Name', 'CAS', 'PubChem_CID', 'FDA_Approved', 'Source',\n",
      "       'Temp_norm', 'Mol', 'Solvent_Fingerprint'],\n",
      "      dtype='object')\n"
     ]
    }
   ],
   "source": [
    "print(sol.columns)"
   ]
  },
  {
   "cell_type": "code",
   "execution_count": 22,
   "id": "8719418f-5a48-45ee-9afa-04b90d563a88",
   "metadata": {},
   "outputs": [],
   "source": [
    "X = pd.concat([mordred_descriptors, sol[['Temp_norm']], pd.DataFrame(sol['Solvent_Fingerprint'].tolist())], axis=1)"
   ]
  },
  {
   "cell_type": "code",
   "execution_count": 23,
   "id": "cab5eedb-a2ea-42f8-bd0c-e7e61e5e759a",
   "metadata": {},
   "outputs": [
    {
     "name": "stdout",
     "output_type": "stream",
     "text": [
      "(50000, 1781)\n"
     ]
    }
   ],
   "source": [
    "print(X.shape) "
   ]
  },
  {
   "cell_type": "code",
   "execution_count": 24,
   "id": "256c8cac-cdb1-4918-8099-80102d5a2e6a",
   "metadata": {},
   "outputs": [
    {
     "name": "stdout",
     "output_type": "stream",
     "text": [
      "                                                 ABC  \\\n",
      "0  module 'numpy' has no attribute 'float'.\\n`np....   \n",
      "1  module 'numpy' has no attribute 'float'.\\n`np....   \n",
      "2  module 'numpy' has no attribute 'float'.\\n`np....   \n",
      "3  module 'numpy' has no attribute 'float'.\\n`np....   \n",
      "4  module 'numpy' has no attribute 'float'.\\n`np....   \n",
      "\n",
      "                                               ABCGG  nAcid  nBase    SpAbs_A  \\\n",
      "0  module 'numpy' has no attribute 'float'.\\n`np....      0      0  30.890348   \n",
      "1  module 'numpy' has no attribute 'float'.\\n`np....      0      0  30.890348   \n",
      "2  module 'numpy' has no attribute 'float'.\\n`np....      0      0  30.890348   \n",
      "3  module 'numpy' has no attribute 'float'.\\n`np....      0      0  30.890348   \n",
      "4  module 'numpy' has no attribute 'float'.\\n`np....      0      0  30.890348   \n",
      "\n",
      "    SpMax_A  SpDiam_A     SpAD_A   SpMAD_A   LogEE_A  ... 157 158 159 160 161  \\\n",
      "0  2.045947  4.091894  30.890348  1.235614  4.038125  ...   1   0   0   1   0   \n",
      "1  2.045947  4.091894  30.890348  1.235614  4.038125  ...   1   0   0   1   0   \n",
      "2  2.045947  4.091894  30.890348  1.235614  4.038125  ...   1   0   0   1   0   \n",
      "3  2.045947  4.091894  30.890348  1.235614  4.038125  ...   1   0   0   1   0   \n",
      "4  2.045947  4.091894  30.890348  1.235614  4.038125  ...   1   0   0   1   0   \n",
      "\n",
      "  162  163  164  165  166  \n",
      "0   0    0    1    0    0  \n",
      "1   0    0    1    0    0  \n",
      "2   0    0    1    0    0  \n",
      "3   0    0    1    0    0  \n",
      "4   0    0    1    0    0  \n",
      "\n",
      "[5 rows x 1781 columns]\n"
     ]
    }
   ],
   "source": [
    "print(X.head())"
   ]
  },
  {
   "cell_type": "code",
   "execution_count": 25,
   "id": "1d490e86-c07f-4d86-8550-f40a5896801c",
   "metadata": {},
   "outputs": [],
   "source": [
    "X = X.apply(pd.to_numeric, errors='coerce') "
   ]
  },
  {
   "cell_type": "code",
   "execution_count": 49,
   "id": "a187d35b-e62f-40ea-b6d6-bc7b20c351d1",
   "metadata": {},
   "outputs": [],
   "source": [
    "X = X.fillna(0)"
   ]
  },
  {
   "cell_type": "code",
   "execution_count": 26,
   "id": "d30b6a84-2aa2-4360-a825-c53e29c60bde",
   "metadata": {},
   "outputs": [
    {
     "name": "stdout",
     "output_type": "stream",
     "text": [
      "   ABC  ABCGG  nAcid  nBase    SpAbs_A   SpMax_A  SpDiam_A     SpAD_A  \\\n",
      "0  NaN    NaN      0      0  30.890348  2.045947  4.091894  30.890348   \n",
      "1  NaN    NaN      0      0  30.890348  2.045947  4.091894  30.890348   \n",
      "2  NaN    NaN      0      0  30.890348  2.045947  4.091894  30.890348   \n",
      "3  NaN    NaN      0      0  30.890348  2.045947  4.091894  30.890348   \n",
      "4  NaN    NaN      0      0  30.890348  2.045947  4.091894  30.890348   \n",
      "\n",
      "    SpMAD_A   LogEE_A  ...  157  158  159  160  161  162  163  164  165  166  \n",
      "0  1.235614  4.038125  ...    1    0    0    1    0    0    0    1    0    0  \n",
      "1  1.235614  4.038125  ...    1    0    0    1    0    0    0    1    0    0  \n",
      "2  1.235614  4.038125  ...    1    0    0    1    0    0    0    1    0    0  \n",
      "3  1.235614  4.038125  ...    1    0    0    1    0    0    0    1    0    0  \n",
      "4  1.235614  4.038125  ...    1    0    0    1    0    0    0    1    0    0  \n",
      "\n",
      "[5 rows x 1781 columns]\n"
     ]
    }
   ],
   "source": [
    "print(X.head())  "
   ]
  },
  {
   "cell_type": "code",
   "execution_count": 27,
   "id": "cf17bd40-7744-46ed-a64e-96ec88855d4c",
   "metadata": {},
   "outputs": [
    {
     "name": "stdout",
     "output_type": "stream",
     "text": [
      "Index([     'ABC',    'ABCGG',    'nAcid',    'nBase',  'SpAbs_A',  'SpMax_A',\n",
      "       'SpDiam_A',   'SpAD_A',  'SpMAD_A',  'LogEE_A',\n",
      "       ...\n",
      "              157,        158,        159,        160,        161,        162,\n",
      "              163,        164,        165,        166],\n",
      "      dtype='object', length=1781)\n"
     ]
    }
   ],
   "source": [
    "print(X.columns)"
   ]
  },
  {
   "cell_type": "code",
   "execution_count": 28,
   "id": "ae16f4f2-b182-4d2f-a98a-0849da85fc4d",
   "metadata": {},
   "outputs": [
    {
     "data": {
      "text/plain": [
       "(50000, 1781)"
      ]
     },
     "execution_count": 28,
     "metadata": {},
     "output_type": "execute_result"
    }
   ],
   "source": [
    "X.shape"
   ]
  },
  {
   "cell_type": "code",
   "execution_count": 29,
   "id": "1f4a5220-d765-4cde-9571-5538b37b01d7",
   "metadata": {},
   "outputs": [
    {
     "data": {
      "text/plain": [
       "(50000, 1779)"
      ]
     },
     "execution_count": 29,
     "metadata": {},
     "output_type": "execute_result"
    }
   ],
   "source": [
    "des_num = X.select_dtypes(include='number')               #select only the features having numerical values from dataframe X\n",
    "des_num.shape"
   ]
  },
  {
   "cell_type": "code",
   "execution_count": 30,
   "id": "7dbd25d4-5f0b-4895-a727-cb758d9463b0",
   "metadata": {},
   "outputs": [],
   "source": [
    "from sklearn.feature_selection import VarianceThreshold\n"
   ]
  },
  {
   "cell_type": "code",
   "execution_count": 31,
   "id": "3bc6208d-6a6d-4838-9bdb-7ec15b298194",
   "metadata": {},
   "outputs": [],
   "source": [
    "des_num.columns = des_num.columns.astype(str)\n"
   ]
  },
  {
   "cell_type": "code",
   "execution_count": null,
   "id": "35c75aad-8734-4efc-9a06-77e6eb9d624c",
   "metadata": {},
   "outputs": [],
   "source": [
    "vt = VarianceThreshold(threshold=0.1)\n",
    "_ = vt.fit(des_num)\n",
    "mask = vt.get_support()\n",
    "des_reduced = des_num.loc[:, mask]"
   ]
  },
  {
   "cell_type": "code",
   "execution_count": 37,
   "id": "fe7d7ea3-c666-4394-9985-29a0a3708027",
   "metadata": {},
   "outputs": [
    {
     "name": "stdout",
     "output_type": "stream",
     "text": [
      "(50000, 1008)\n"
     ]
    }
   ],
   "source": [
    "H = des_reduced\n",
    "X = H\n",
    "print(X.shape)"
   ]
  },
  {
   "cell_type": "code",
   "execution_count": 38,
   "id": "47b7b9ab-828c-4187-bc6d-502621ad04d4",
   "metadata": {},
   "outputs": [],
   "source": [
    "# Remove highly correlated features\n",
    "correlated_features = set()\n",
    "correlation_matrix = des_reduced.corr()\n",
    "for i in range(len(correlation_matrix.columns)):\n",
    "    for j in range(i):\n",
    "        if abs(correlation_matrix.iloc[i, j]) > 0.8:\n",
    "            correlated_features.add(correlation_matrix.columns[i])\n",
    "X = des_reduced.drop(labels=correlated_features, axis=1, errors='ignore')\n"
   ]
  },
  {
   "cell_type": "code",
   "execution_count": 39,
   "id": "a041f8c3-b4a3-4a22-a4f3-c0885d1ae119",
   "metadata": {},
   "outputs": [
    {
     "data": {
      "text/plain": [
       "(50000, 207)"
      ]
     },
     "execution_count": 39,
     "metadata": {},
     "output_type": "execute_result"
    }
   ],
   "source": [
    "X.shape\n"
   ]
  },
  {
   "cell_type": "code",
   "execution_count": 40,
   "id": "32e22170-67f5-4ef8-84a4-e281feeb9f8b",
   "metadata": {},
   "outputs": [
    {
     "name": "stdout",
     "output_type": "stream",
     "text": [
      "Index(['SMILES_Solute', 'Temperature_K', 'Solvent', 'SMILES_Solvent',\n",
      "       'Solubility(mole_fraction)', 'Solubility(mol/L)', 'LogS(mol/L)',\n",
      "       'Compound_Name', 'CAS', 'PubChem_CID', 'FDA_Approved', 'Source',\n",
      "       'Temp_norm', 'Mol', 'Solvent_Fingerprint'],\n",
      "      dtype='object')\n"
     ]
    }
   ],
   "source": [
    "print(sol.columns)"
   ]
  },
  {
   "cell_type": "code",
   "execution_count": 41,
   "id": "b65bbf8b-23a0-480b-82bc-2ffb15ed6176",
   "metadata": {},
   "outputs": [],
   "source": [
    "Y = sol.iloc[:,5]      #solubility values are in 6th column\n"
   ]
  },
  {
   "cell_type": "code",
   "execution_count": 64,
   "id": "98408a06-89f0-4b06-ac2e-88a859902c54",
   "metadata": {},
   "outputs": [],
   "source": [
    "# Split the data randomly using train_test_split()\n",
    "X_train, X_test, Y_train, Y_test = train_test_split(X, Y, test_size=0.2, random_state=991)"
   ]
  },
  {
   "cell_type": "code",
   "execution_count": 65,
   "id": "45488704-ef56-4422-9829-91e5bddaa3f8",
   "metadata": {},
   "outputs": [
    {
     "data": {
      "text/html": [
       "<style>#sk-container-id-1 {\n",
       "  /* Definition of color scheme common for light and dark mode */\n",
       "  --sklearn-color-text: #000;\n",
       "  --sklearn-color-text-muted: #666;\n",
       "  --sklearn-color-line: gray;\n",
       "  /* Definition of color scheme for unfitted estimators */\n",
       "  --sklearn-color-unfitted-level-0: #fff5e6;\n",
       "  --sklearn-color-unfitted-level-1: #f6e4d2;\n",
       "  --sklearn-color-unfitted-level-2: #ffe0b3;\n",
       "  --sklearn-color-unfitted-level-3: chocolate;\n",
       "  /* Definition of color scheme for fitted estimators */\n",
       "  --sklearn-color-fitted-level-0: #f0f8ff;\n",
       "  --sklearn-color-fitted-level-1: #d4ebff;\n",
       "  --sklearn-color-fitted-level-2: #b3dbfd;\n",
       "  --sklearn-color-fitted-level-3: cornflowerblue;\n",
       "\n",
       "  /* Specific color for light theme */\n",
       "  --sklearn-color-text-on-default-background: var(--sg-text-color, var(--theme-code-foreground, var(--jp-content-font-color1, black)));\n",
       "  --sklearn-color-background: var(--sg-background-color, var(--theme-background, var(--jp-layout-color0, white)));\n",
       "  --sklearn-color-border-box: var(--sg-text-color, var(--theme-code-foreground, var(--jp-content-font-color1, black)));\n",
       "  --sklearn-color-icon: #696969;\n",
       "\n",
       "  @media (prefers-color-scheme: dark) {\n",
       "    /* Redefinition of color scheme for dark theme */\n",
       "    --sklearn-color-text-on-default-background: var(--sg-text-color, var(--theme-code-foreground, var(--jp-content-font-color1, white)));\n",
       "    --sklearn-color-background: var(--sg-background-color, var(--theme-background, var(--jp-layout-color0, #111)));\n",
       "    --sklearn-color-border-box: var(--sg-text-color, var(--theme-code-foreground, var(--jp-content-font-color1, white)));\n",
       "    --sklearn-color-icon: #878787;\n",
       "  }\n",
       "}\n",
       "\n",
       "#sk-container-id-1 {\n",
       "  color: var(--sklearn-color-text);\n",
       "}\n",
       "\n",
       "#sk-container-id-1 pre {\n",
       "  padding: 0;\n",
       "}\n",
       "\n",
       "#sk-container-id-1 input.sk-hidden--visually {\n",
       "  border: 0;\n",
       "  clip: rect(1px 1px 1px 1px);\n",
       "  clip: rect(1px, 1px, 1px, 1px);\n",
       "  height: 1px;\n",
       "  margin: -1px;\n",
       "  overflow: hidden;\n",
       "  padding: 0;\n",
       "  position: absolute;\n",
       "  width: 1px;\n",
       "}\n",
       "\n",
       "#sk-container-id-1 div.sk-dashed-wrapped {\n",
       "  border: 1px dashed var(--sklearn-color-line);\n",
       "  margin: 0 0.4em 0.5em 0.4em;\n",
       "  box-sizing: border-box;\n",
       "  padding-bottom: 0.4em;\n",
       "  background-color: var(--sklearn-color-background);\n",
       "}\n",
       "\n",
       "#sk-container-id-1 div.sk-container {\n",
       "  /* jupyter's `normalize.less` sets `[hidden] { display: none; }`\n",
       "     but bootstrap.min.css set `[hidden] { display: none !important; }`\n",
       "     so we also need the `!important` here to be able to override the\n",
       "     default hidden behavior on the sphinx rendered scikit-learn.org.\n",
       "     See: https://github.com/scikit-learn/scikit-learn/issues/21755 */\n",
       "  display: inline-block !important;\n",
       "  position: relative;\n",
       "}\n",
       "\n",
       "#sk-container-id-1 div.sk-text-repr-fallback {\n",
       "  display: none;\n",
       "}\n",
       "\n",
       "div.sk-parallel-item,\n",
       "div.sk-serial,\n",
       "div.sk-item {\n",
       "  /* draw centered vertical line to link estimators */\n",
       "  background-image: linear-gradient(var(--sklearn-color-text-on-default-background), var(--sklearn-color-text-on-default-background));\n",
       "  background-size: 2px 100%;\n",
       "  background-repeat: no-repeat;\n",
       "  background-position: center center;\n",
       "}\n",
       "\n",
       "/* Parallel-specific style estimator block */\n",
       "\n",
       "#sk-container-id-1 div.sk-parallel-item::after {\n",
       "  content: \"\";\n",
       "  width: 100%;\n",
       "  border-bottom: 2px solid var(--sklearn-color-text-on-default-background);\n",
       "  flex-grow: 1;\n",
       "}\n",
       "\n",
       "#sk-container-id-1 div.sk-parallel {\n",
       "  display: flex;\n",
       "  align-items: stretch;\n",
       "  justify-content: center;\n",
       "  background-color: var(--sklearn-color-background);\n",
       "  position: relative;\n",
       "}\n",
       "\n",
       "#sk-container-id-1 div.sk-parallel-item {\n",
       "  display: flex;\n",
       "  flex-direction: column;\n",
       "}\n",
       "\n",
       "#sk-container-id-1 div.sk-parallel-item:first-child::after {\n",
       "  align-self: flex-end;\n",
       "  width: 50%;\n",
       "}\n",
       "\n",
       "#sk-container-id-1 div.sk-parallel-item:last-child::after {\n",
       "  align-self: flex-start;\n",
       "  width: 50%;\n",
       "}\n",
       "\n",
       "#sk-container-id-1 div.sk-parallel-item:only-child::after {\n",
       "  width: 0;\n",
       "}\n",
       "\n",
       "/* Serial-specific style estimator block */\n",
       "\n",
       "#sk-container-id-1 div.sk-serial {\n",
       "  display: flex;\n",
       "  flex-direction: column;\n",
       "  align-items: center;\n",
       "  background-color: var(--sklearn-color-background);\n",
       "  padding-right: 1em;\n",
       "  padding-left: 1em;\n",
       "}\n",
       "\n",
       "\n",
       "/* Toggleable style: style used for estimator/Pipeline/ColumnTransformer box that is\n",
       "clickable and can be expanded/collapsed.\n",
       "- Pipeline and ColumnTransformer use this feature and define the default style\n",
       "- Estimators will overwrite some part of the style using the `sk-estimator` class\n",
       "*/\n",
       "\n",
       "/* Pipeline and ColumnTransformer style (default) */\n",
       "\n",
       "#sk-container-id-1 div.sk-toggleable {\n",
       "  /* Default theme specific background. It is overwritten whether we have a\n",
       "  specific estimator or a Pipeline/ColumnTransformer */\n",
       "  background-color: var(--sklearn-color-background);\n",
       "}\n",
       "\n",
       "/* Toggleable label */\n",
       "#sk-container-id-1 label.sk-toggleable__label {\n",
       "  cursor: pointer;\n",
       "  display: flex;\n",
       "  width: 100%;\n",
       "  margin-bottom: 0;\n",
       "  padding: 0.5em;\n",
       "  box-sizing: border-box;\n",
       "  text-align: center;\n",
       "  align-items: start;\n",
       "  justify-content: space-between;\n",
       "  gap: 0.5em;\n",
       "}\n",
       "\n",
       "#sk-container-id-1 label.sk-toggleable__label .caption {\n",
       "  font-size: 0.6rem;\n",
       "  font-weight: lighter;\n",
       "  color: var(--sklearn-color-text-muted);\n",
       "}\n",
       "\n",
       "#sk-container-id-1 label.sk-toggleable__label-arrow:before {\n",
       "  /* Arrow on the left of the label */\n",
       "  content: \"▸\";\n",
       "  float: left;\n",
       "  margin-right: 0.25em;\n",
       "  color: var(--sklearn-color-icon);\n",
       "}\n",
       "\n",
       "#sk-container-id-1 label.sk-toggleable__label-arrow:hover:before {\n",
       "  color: var(--sklearn-color-text);\n",
       "}\n",
       "\n",
       "/* Toggleable content - dropdown */\n",
       "\n",
       "#sk-container-id-1 div.sk-toggleable__content {\n",
       "  max-height: 0;\n",
       "  max-width: 0;\n",
       "  overflow: hidden;\n",
       "  text-align: left;\n",
       "  /* unfitted */\n",
       "  background-color: var(--sklearn-color-unfitted-level-0);\n",
       "}\n",
       "\n",
       "#sk-container-id-1 div.sk-toggleable__content.fitted {\n",
       "  /* fitted */\n",
       "  background-color: var(--sklearn-color-fitted-level-0);\n",
       "}\n",
       "\n",
       "#sk-container-id-1 div.sk-toggleable__content pre {\n",
       "  margin: 0.2em;\n",
       "  border-radius: 0.25em;\n",
       "  color: var(--sklearn-color-text);\n",
       "  /* unfitted */\n",
       "  background-color: var(--sklearn-color-unfitted-level-0);\n",
       "}\n",
       "\n",
       "#sk-container-id-1 div.sk-toggleable__content.fitted pre {\n",
       "  /* unfitted */\n",
       "  background-color: var(--sklearn-color-fitted-level-0);\n",
       "}\n",
       "\n",
       "#sk-container-id-1 input.sk-toggleable__control:checked~div.sk-toggleable__content {\n",
       "  /* Expand drop-down */\n",
       "  max-height: 200px;\n",
       "  max-width: 100%;\n",
       "  overflow: auto;\n",
       "}\n",
       "\n",
       "#sk-container-id-1 input.sk-toggleable__control:checked~label.sk-toggleable__label-arrow:before {\n",
       "  content: \"▾\";\n",
       "}\n",
       "\n",
       "/* Pipeline/ColumnTransformer-specific style */\n",
       "\n",
       "#sk-container-id-1 div.sk-label input.sk-toggleable__control:checked~label.sk-toggleable__label {\n",
       "  color: var(--sklearn-color-text);\n",
       "  background-color: var(--sklearn-color-unfitted-level-2);\n",
       "}\n",
       "\n",
       "#sk-container-id-1 div.sk-label.fitted input.sk-toggleable__control:checked~label.sk-toggleable__label {\n",
       "  background-color: var(--sklearn-color-fitted-level-2);\n",
       "}\n",
       "\n",
       "/* Estimator-specific style */\n",
       "\n",
       "/* Colorize estimator box */\n",
       "#sk-container-id-1 div.sk-estimator input.sk-toggleable__control:checked~label.sk-toggleable__label {\n",
       "  /* unfitted */\n",
       "  background-color: var(--sklearn-color-unfitted-level-2);\n",
       "}\n",
       "\n",
       "#sk-container-id-1 div.sk-estimator.fitted input.sk-toggleable__control:checked~label.sk-toggleable__label {\n",
       "  /* fitted */\n",
       "  background-color: var(--sklearn-color-fitted-level-2);\n",
       "}\n",
       "\n",
       "#sk-container-id-1 div.sk-label label.sk-toggleable__label,\n",
       "#sk-container-id-1 div.sk-label label {\n",
       "  /* The background is the default theme color */\n",
       "  color: var(--sklearn-color-text-on-default-background);\n",
       "}\n",
       "\n",
       "/* On hover, darken the color of the background */\n",
       "#sk-container-id-1 div.sk-label:hover label.sk-toggleable__label {\n",
       "  color: var(--sklearn-color-text);\n",
       "  background-color: var(--sklearn-color-unfitted-level-2);\n",
       "}\n",
       "\n",
       "/* Label box, darken color on hover, fitted */\n",
       "#sk-container-id-1 div.sk-label.fitted:hover label.sk-toggleable__label.fitted {\n",
       "  color: var(--sklearn-color-text);\n",
       "  background-color: var(--sklearn-color-fitted-level-2);\n",
       "}\n",
       "\n",
       "/* Estimator label */\n",
       "\n",
       "#sk-container-id-1 div.sk-label label {\n",
       "  font-family: monospace;\n",
       "  font-weight: bold;\n",
       "  display: inline-block;\n",
       "  line-height: 1.2em;\n",
       "}\n",
       "\n",
       "#sk-container-id-1 div.sk-label-container {\n",
       "  text-align: center;\n",
       "}\n",
       "\n",
       "/* Estimator-specific */\n",
       "#sk-container-id-1 div.sk-estimator {\n",
       "  font-family: monospace;\n",
       "  border: 1px dotted var(--sklearn-color-border-box);\n",
       "  border-radius: 0.25em;\n",
       "  box-sizing: border-box;\n",
       "  margin-bottom: 0.5em;\n",
       "  /* unfitted */\n",
       "  background-color: var(--sklearn-color-unfitted-level-0);\n",
       "}\n",
       "\n",
       "#sk-container-id-1 div.sk-estimator.fitted {\n",
       "  /* fitted */\n",
       "  background-color: var(--sklearn-color-fitted-level-0);\n",
       "}\n",
       "\n",
       "/* on hover */\n",
       "#sk-container-id-1 div.sk-estimator:hover {\n",
       "  /* unfitted */\n",
       "  background-color: var(--sklearn-color-unfitted-level-2);\n",
       "}\n",
       "\n",
       "#sk-container-id-1 div.sk-estimator.fitted:hover {\n",
       "  /* fitted */\n",
       "  background-color: var(--sklearn-color-fitted-level-2);\n",
       "}\n",
       "\n",
       "/* Specification for estimator info (e.g. \"i\" and \"?\") */\n",
       "\n",
       "/* Common style for \"i\" and \"?\" */\n",
       "\n",
       ".sk-estimator-doc-link,\n",
       "a:link.sk-estimator-doc-link,\n",
       "a:visited.sk-estimator-doc-link {\n",
       "  float: right;\n",
       "  font-size: smaller;\n",
       "  line-height: 1em;\n",
       "  font-family: monospace;\n",
       "  background-color: var(--sklearn-color-background);\n",
       "  border-radius: 1em;\n",
       "  height: 1em;\n",
       "  width: 1em;\n",
       "  text-decoration: none !important;\n",
       "  margin-left: 0.5em;\n",
       "  text-align: center;\n",
       "  /* unfitted */\n",
       "  border: var(--sklearn-color-unfitted-level-1) 1pt solid;\n",
       "  color: var(--sklearn-color-unfitted-level-1);\n",
       "}\n",
       "\n",
       ".sk-estimator-doc-link.fitted,\n",
       "a:link.sk-estimator-doc-link.fitted,\n",
       "a:visited.sk-estimator-doc-link.fitted {\n",
       "  /* fitted */\n",
       "  border: var(--sklearn-color-fitted-level-1) 1pt solid;\n",
       "  color: var(--sklearn-color-fitted-level-1);\n",
       "}\n",
       "\n",
       "/* On hover */\n",
       "div.sk-estimator:hover .sk-estimator-doc-link:hover,\n",
       ".sk-estimator-doc-link:hover,\n",
       "div.sk-label-container:hover .sk-estimator-doc-link:hover,\n",
       ".sk-estimator-doc-link:hover {\n",
       "  /* unfitted */\n",
       "  background-color: var(--sklearn-color-unfitted-level-3);\n",
       "  color: var(--sklearn-color-background);\n",
       "  text-decoration: none;\n",
       "}\n",
       "\n",
       "div.sk-estimator.fitted:hover .sk-estimator-doc-link.fitted:hover,\n",
       ".sk-estimator-doc-link.fitted:hover,\n",
       "div.sk-label-container:hover .sk-estimator-doc-link.fitted:hover,\n",
       ".sk-estimator-doc-link.fitted:hover {\n",
       "  /* fitted */\n",
       "  background-color: var(--sklearn-color-fitted-level-3);\n",
       "  color: var(--sklearn-color-background);\n",
       "  text-decoration: none;\n",
       "}\n",
       "\n",
       "/* Span, style for the box shown on hovering the info icon */\n",
       ".sk-estimator-doc-link span {\n",
       "  display: none;\n",
       "  z-index: 9999;\n",
       "  position: relative;\n",
       "  font-weight: normal;\n",
       "  right: .2ex;\n",
       "  padding: .5ex;\n",
       "  margin: .5ex;\n",
       "  width: min-content;\n",
       "  min-width: 20ex;\n",
       "  max-width: 50ex;\n",
       "  color: var(--sklearn-color-text);\n",
       "  box-shadow: 2pt 2pt 4pt #999;\n",
       "  /* unfitted */\n",
       "  background: var(--sklearn-color-unfitted-level-0);\n",
       "  border: .5pt solid var(--sklearn-color-unfitted-level-3);\n",
       "}\n",
       "\n",
       ".sk-estimator-doc-link.fitted span {\n",
       "  /* fitted */\n",
       "  background: var(--sklearn-color-fitted-level-0);\n",
       "  border: var(--sklearn-color-fitted-level-3);\n",
       "}\n",
       "\n",
       ".sk-estimator-doc-link:hover span {\n",
       "  display: block;\n",
       "}\n",
       "\n",
       "/* \"?\"-specific style due to the `<a>` HTML tag */\n",
       "\n",
       "#sk-container-id-1 a.estimator_doc_link {\n",
       "  float: right;\n",
       "  font-size: 1rem;\n",
       "  line-height: 1em;\n",
       "  font-family: monospace;\n",
       "  background-color: var(--sklearn-color-background);\n",
       "  border-radius: 1rem;\n",
       "  height: 1rem;\n",
       "  width: 1rem;\n",
       "  text-decoration: none;\n",
       "  /* unfitted */\n",
       "  color: var(--sklearn-color-unfitted-level-1);\n",
       "  border: var(--sklearn-color-unfitted-level-1) 1pt solid;\n",
       "}\n",
       "\n",
       "#sk-container-id-1 a.estimator_doc_link.fitted {\n",
       "  /* fitted */\n",
       "  border: var(--sklearn-color-fitted-level-1) 1pt solid;\n",
       "  color: var(--sklearn-color-fitted-level-1);\n",
       "}\n",
       "\n",
       "/* On hover */\n",
       "#sk-container-id-1 a.estimator_doc_link:hover {\n",
       "  /* unfitted */\n",
       "  background-color: var(--sklearn-color-unfitted-level-3);\n",
       "  color: var(--sklearn-color-background);\n",
       "  text-decoration: none;\n",
       "}\n",
       "\n",
       "#sk-container-id-1 a.estimator_doc_link.fitted:hover {\n",
       "  /* fitted */\n",
       "  background-color: var(--sklearn-color-fitted-level-3);\n",
       "}\n",
       "</style><div id=\"sk-container-id-1\" class=\"sk-top-container\"><div class=\"sk-text-repr-fallback\"><pre>LinearRegression()</pre><b>In a Jupyter environment, please rerun this cell to show the HTML representation or trust the notebook. <br />On GitHub, the HTML representation is unable to render, please try loading this page with nbviewer.org.</b></div><div class=\"sk-container\" hidden><div class=\"sk-item\"><div class=\"sk-estimator fitted sk-toggleable\"><input class=\"sk-toggleable__control sk-hidden--visually\" id=\"sk-estimator-id-1\" type=\"checkbox\" checked><label for=\"sk-estimator-id-1\" class=\"sk-toggleable__label fitted sk-toggleable__label-arrow\"><div><div>LinearRegression</div></div><div><a class=\"sk-estimator-doc-link fitted\" rel=\"noreferrer\" target=\"_blank\" href=\"https://scikit-learn.org/1.6/modules/generated/sklearn.linear_model.LinearRegression.html\">?<span>Documentation for LinearRegression</span></a><span class=\"sk-estimator-doc-link fitted\">i<span>Fitted</span></span></div></label><div class=\"sk-toggleable__content fitted\"><pre>LinearRegression()</pre></div> </div></div></div></div>"
      ],
      "text/plain": [
       "LinearRegression()"
      ]
     },
     "execution_count": 65,
     "metadata": {},
     "output_type": "execute_result"
    }
   ],
   "source": [
    "from sklearn.linear_model import LinearRegression\n",
    "\n",
    "\n",
    "# Train linear regression model\n",
    "reg = LinearRegression()\n",
    "reg.fit(X_train, Y_train)\n"
   ]
  },
  {
   "cell_type": "code",
   "execution_count": 66,
   "id": "139fb5a5-130e-4b2b-b4d3-758f23fd1fcc",
   "metadata": {},
   "outputs": [],
   "source": [
    "# Predictions using trained linnear regression model(reg)\n",
    "Y_pred_train = reg.predict(X_train)  #predict for training data\n",
    "Y_pred_test = reg.predict(X_test)    #predict for testing data"
   ]
  },
  {
   "cell_type": "code",
   "execution_count": 67,
   "id": "ff4253c7-5967-42ac-80e9-b7845d1dfc20",
   "metadata": {},
   "outputs": [
    {
     "name": "stdout",
     "output_type": "stream",
     "text": [
      "Linear Regression - Train R2: 0.14\n",
      "Linear Regression - Test R2: 0.12\n"
     ]
    }
   ],
   "source": [
    "# Metrics\n",
    "print('Linear Regression - Train R2: %.2f' % r2_score(Y_train, Y_pred_train))\n",
    "print('Linear Regression - Test R2: %.2f' % r2_score(Y_test, Y_pred_test))\n"
   ]
  },
  {
   "cell_type": "code",
   "execution_count": 68,
   "id": "dcf151ac-ac78-4e69-b82a-d0baf11e9d9a",
   "metadata": {},
   "outputs": [
    {
     "name": "stdout",
     "output_type": "stream",
     "text": [
      "0    0.010083\n",
      "1    0.020100\n",
      "2    0.033356\n",
      "3    0.083356\n",
      "4    0.233286\n",
      "Name: Solubility(mol/L), dtype: float64\n"
     ]
    }
   ],
   "source": [
    "print(Y.head())"
   ]
  },
  {
   "cell_type": "code",
   "execution_count": 69,
   "id": "c83fcfa5-c275-491d-8f86-f54151e490ec",
   "metadata": {},
   "outputs": [
    {
     "name": "stdout",
     "output_type": "stream",
     "text": [
      "MAE Train: 1.6952861478357322\n",
      "MAE Test: 1.7765465098722395\n"
     ]
    }
   ],
   "source": [
    "# MAE\n",
    "print('MAE Train:', mean_absolute_error(Y_train, Y_pred_train))\n",
    "print('MAE Test:', mean_absolute_error(Y_test, Y_pred_test))"
   ]
  },
  {
   "cell_type": "code",
   "execution_count": 70,
   "id": "a0f0713b-9cc3-4527-94f0-b950fb1296bb",
   "metadata": {},
   "outputs": [],
   "source": [
    "# Random Forest\n",
    "model = RandomForestRegressor(n_estimators=100, random_state=42)\n",
    "model.fit(X_train, Y_train)\n",
    "Y_pred_train = model.predict(X_train)\n",
    "Y_pred_test = model.predict(X_test)"
   ]
  },
  {
   "cell_type": "code",
   "execution_count": 71,
   "id": "4a056284-a2a3-4753-b141-c614694a515c",
   "metadata": {},
   "outputs": [
    {
     "name": "stdout",
     "output_type": "stream",
     "text": [
      "Random Forest - Train R2: 0.98\n",
      "Random Forest - Test R2: 0.85\n"
     ]
    }
   ],
   "source": [
    "print('Random Forest - Train R2: %.2f' % r2_score(Y_train, Y_pred_train))\n",
    "print('Random Forest - Test R2: %.2f' % r2_score(Y_test, Y_pred_test))"
   ]
  },
  {
   "cell_type": "code",
   "execution_count": 72,
   "id": "69778d97-aa18-40ea-aa03-0fdafb9ce69f",
   "metadata": {},
   "outputs": [
    {
     "name": "stdout",
     "output_type": "stream",
     "text": [
      "MAE Train: 0.10657975785902392\n",
      "MAE Test: 0.3083850895304288\n"
     ]
    }
   ],
   "source": [
    "# MAE\n",
    "print('MAE Train:', mean_absolute_error(Y_train, Y_pred_train))\n",
    "print('MAE Test:', mean_absolute_error(Y_test, Y_pred_test))\n"
   ]
  },
  {
   "cell_type": "code",
   "execution_count": 43,
   "id": "1c281d01-ba0f-41c7-814d-d8e460d461ad",
   "metadata": {},
   "outputs": [],
   "source": [
    "def All_Mordred_descriptors(data):\n",
    "    calc = Calculator(descriptors, ignore_3D=True)\n",
    "    mols = [Chem.MolFromSmiles(smi) for smi in data]\n",
    "    n_jobs = max(1, os.cpu_count() - 2)\n",
    "    df = calc.pandas(mols, nproc=n_jobs)\n",
    "    return df"
   ]
  },
  {
   "cell_type": "code",
   "execution_count": 44,
   "id": "cb36de41-73e6-4e3c-a2a5-d55d403e5d56",
   "metadata": {},
   "outputs": [
    {
     "name": "stdout",
     "output_type": "stream",
     "text": [
      "CPU times: user 3min 9s, sys: 33.4 s, total: 3min 42s\n",
      "Wall time: 9min 5s\n"
     ]
    }
   ],
   "source": [
    "%%time\n",
    "mordred_descriptors_solvent = All_Mordred_descriptors(sol['SMILES_Solvent'])"
   ]
  },
  {
   "cell_type": "code",
   "execution_count": 49,
   "id": "a5b217dd-4b48-4aaf-a140-a36ccdab3ddc",
   "metadata": {},
   "outputs": [
    {
     "data": {
      "text/plain": [
       "Index(['SMILES_Solute', 'Temperature_K', 'Solvent', 'SMILES_Solvent',\n",
       "       'Solubility(mole_fraction)', 'Solubility(mol/L)', 'LogS(mol/L)',\n",
       "       'Compound_Name', 'CAS', 'PubChem_CID', 'FDA_Approved', 'Source',\n",
       "       'Temp_norm', 'Mol', 'Solvent_Fingerprint'],\n",
       "      dtype='object')"
      ]
     },
     "execution_count": 49,
     "metadata": {},
     "output_type": "execute_result"
    }
   ],
   "source": [
    "sol.columns"
   ]
  },
  {
   "cell_type": "code",
   "execution_count": 50,
   "id": "0b2a1e6a-b9fd-4a41-b8dc-3170e6933127",
   "metadata": {},
   "outputs": [],
   "source": [
    "X1 = pd.concat([mordred_descriptors, sol[['Temperature_K']], mordred_descriptors_solvent], axis=1)"
   ]
  },
  {
   "cell_type": "code",
   "execution_count": 52,
   "id": "626a0c0f-cb62-4061-afb9-4244b5ff0f7c",
   "metadata": {},
   "outputs": [
    {
     "name": "stdout",
     "output_type": "stream",
     "text": [
      "(50000, 3227)\n"
     ]
    }
   ],
   "source": [
    "print(X1.shape) "
   ]
  },
  {
   "cell_type": "code",
   "execution_count": 54,
   "id": "c1c5a300-fd4c-484e-a4cc-78d3e7278b07",
   "metadata": {},
   "outputs": [],
   "source": [
    "X1 = X1.apply(pd.to_numeric, errors='coerce') "
   ]
  },
  {
   "cell_type": "code",
   "execution_count": 55,
   "id": "297d698c-56cd-44ff-be71-8aa87b76a1bc",
   "metadata": {},
   "outputs": [],
   "source": [
    "X1 = X1.fillna(0)"
   ]
  },
  {
   "cell_type": "code",
   "execution_count": 57,
   "id": "bd4312cb-4744-4013-9c1b-59339ca3229e",
   "metadata": {},
   "outputs": [
    {
     "data": {
      "text/plain": [
       "(50000, 3223)"
      ]
     },
     "execution_count": 57,
     "metadata": {},
     "output_type": "execute_result"
    }
   ],
   "source": [
    "des_num = X1.select_dtypes(include='number')               #select only the features having numerical values from dataframe X\n",
    "des_num.shape"
   ]
  },
  {
   "cell_type": "code",
   "execution_count": 58,
   "id": "9ad7be47-1712-4766-90ae-087bfc47dd1b",
   "metadata": {},
   "outputs": [],
   "source": [
    "from sklearn.feature_selection import VarianceThreshold\n"
   ]
  },
  {
   "cell_type": "code",
   "execution_count": 59,
   "id": "5509a954-f82a-4409-9ead-00d595ffd17a",
   "metadata": {},
   "outputs": [],
   "source": [
    "des_num.columns = des_num.columns.astype(str)\n"
   ]
  },
  {
   "cell_type": "code",
   "execution_count": 60,
   "id": "f498154d-b8b2-4488-9b32-fc9c1ad18f7a",
   "metadata": {},
   "outputs": [],
   "source": [
    "vt = VarianceThreshold(threshold=0.1)\n",
    "_ = vt.fit(des_num)\n",
    "mask = vt.get_support()\n",
    "des_reduced = des_num.loc[:, mask]"
   ]
  },
  {
   "cell_type": "code",
   "execution_count": 61,
   "id": "db6f714e-510f-48ac-9030-e291470a31f3",
   "metadata": {},
   "outputs": [
    {
     "name": "stdout",
     "output_type": "stream",
     "text": [
      "(50000, 1602)\n"
     ]
    }
   ],
   "source": [
    "H1 = des_reduced\n",
    "X1 = H1\n",
    "print(X1.shape)"
   ]
  },
  {
   "cell_type": "code",
   "execution_count": 62,
   "id": "6bfe49c7-300e-415b-8776-15728405cf60",
   "metadata": {},
   "outputs": [],
   "source": [
    "# Remove highly correlated features\n",
    "correlated_features = set()\n",
    "correlation_matrix = des_reduced.corr()\n",
    "for i in range(len(correlation_matrix.columns)):\n",
    "    for j in range(i):\n",
    "        if abs(correlation_matrix.iloc[i, j]) > 0.8:\n",
    "            correlated_features.add(correlation_matrix.columns[i])\n",
    "X1 = des_reduced.drop(labels=correlated_features, axis=1, errors='ignore')\n"
   ]
  },
  {
   "cell_type": "code",
   "execution_count": 63,
   "id": "8be23073-9b66-49e1-8e34-2f387f2e4801",
   "metadata": {},
   "outputs": [
    {
     "data": {
      "text/plain": [
       "(50000, 178)"
      ]
     },
     "execution_count": 63,
     "metadata": {},
     "output_type": "execute_result"
    }
   ],
   "source": [
    "X1.shape"
   ]
  },
  {
   "cell_type": "code",
   "execution_count": 65,
   "id": "b2e0c56c-979e-438e-a51d-624364268755",
   "metadata": {},
   "outputs": [],
   "source": [
    "# Split the data randomly using train_test_split()\n",
    "X1_train, X1_test, Y_train, Y_test = train_test_split(X1, Y, test_size=0.2, random_state=991)"
   ]
  },
  {
   "cell_type": "code",
   "execution_count": 66,
   "id": "c2e7db45-db82-441b-9de4-0d67fc8e5b9f",
   "metadata": {},
   "outputs": [
    {
     "name": "stdout",
     "output_type": "stream",
     "text": [
      "CPU times: user 3min 16s, sys: 846 ms, total: 3min 17s\n",
      "Wall time: 3min 18s\n"
     ]
    }
   ],
   "source": [
    "%%time\n",
    "# Random Forest\n",
    "model = RandomForestRegressor(n_estimators=100, random_state=42)\n",
    "model.fit(X1_train, Y_train)\n",
    "Y_pred_train = model.predict(X1_train)\n",
    "Y_pred_test = model.predict(X1_test)"
   ]
  },
  {
   "cell_type": "code",
   "execution_count": 67,
   "id": "ff5d664b-de20-43fa-95c8-af4156b753c5",
   "metadata": {},
   "outputs": [
    {
     "name": "stdout",
     "output_type": "stream",
     "text": [
      "Random Forest - Train R2: 0.98\n",
      "Random Forest - Test R2: 0.85\n"
     ]
    }
   ],
   "source": [
    "print('Random Forest - Train R2: %.2f' % r2_score(Y_train, Y_pred_train))\n",
    "print('Random Forest - Test R2: %.2f' % r2_score(Y_test, Y_pred_test))"
   ]
  },
  {
   "cell_type": "code",
   "execution_count": 68,
   "id": "21e3ae51-bd0a-4978-bdcc-e13a07154de2",
   "metadata": {},
   "outputs": [
    {
     "name": "stdout",
     "output_type": "stream",
     "text": [
      "MAE Train: 0.10606452494103216\n",
      "MAE Test: 0.3042803764096291\n"
     ]
    }
   ],
   "source": [
    "# MAE\n",
    "print('MAE Train:', mean_absolute_error(Y_train, Y_pred_train))\n",
    "print('MAE Test:', mean_absolute_error(Y_test, Y_pred_test))\n"
   ]
  },
  {
   "cell_type": "code",
   "execution_count": null,
   "id": "61a91327-2c90-4eb7-a748-0fa75edc73ba",
   "metadata": {},
   "outputs": [],
   "source": []
  }
 ],
 "metadata": {
  "kernelspec": {
   "display_name": "Python 3 (ipykernel)",
   "language": "python",
   "name": "python3"
  },
  "language_info": {
   "codemirror_mode": {
    "name": "ipython",
    "version": 3
   },
   "file_extension": ".py",
   "mimetype": "text/x-python",
   "name": "python",
   "nbconvert_exporter": "python",
   "pygments_lexer": "ipython3",
   "version": "3.11.11"
  }
 },
 "nbformat": 4,
 "nbformat_minor": 5
}
